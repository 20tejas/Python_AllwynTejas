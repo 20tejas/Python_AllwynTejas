{
 "cells": [
  {
   "cell_type": "code",
   "execution_count": 1,
   "id": "5b861f4a-7c6a-4c26-90fa-42b79391888b",
   "metadata": {},
   "outputs": [],
   "source": [
    "import pandas as pd"
   ]
  },
  {
   "cell_type": "code",
   "execution_count": 2,
   "id": "728e7966-0573-4fdc-b4b3-d6581bdd9b24",
   "metadata": {},
   "outputs": [],
   "source": [
    "df=pd.read_csv(\"C:/Users/91976/Downloads/IPL_Dataset.csv\")"
   ]
  },
  {
   "cell_type": "code",
   "execution_count": 3,
   "id": "06cadb01-7c9e-4577-9e6e-0feb8e8e236d",
   "metadata": {
    "scrolled": true
   },
   "outputs": [
    {
     "data": {
      "text/html": [
       "<div>\n",
       "<style scoped>\n",
       "    .dataframe tbody tr th:only-of-type {\n",
       "        vertical-align: middle;\n",
       "    }\n",
       "\n",
       "    .dataframe tbody tr th {\n",
       "        vertical-align: top;\n",
       "    }\n",
       "\n",
       "    .dataframe thead th {\n",
       "        text-align: right;\n",
       "    }\n",
       "</style>\n",
       "<table border=\"1\" class=\"dataframe\">\n",
       "  <thead>\n",
       "    <tr style=\"text-align: right;\">\n",
       "      <th></th>\n",
       "      <th>match_id</th>\n",
       "      <th>inning</th>\n",
       "      <th>batting_team</th>\n",
       "      <th>bowling_team</th>\n",
       "      <th>over</th>\n",
       "      <th>ball</th>\n",
       "      <th>batsman</th>\n",
       "      <th>non_striker</th>\n",
       "      <th>bowler</th>\n",
       "      <th>is_super_over</th>\n",
       "      <th>...</th>\n",
       "      <th>bye_runs</th>\n",
       "      <th>legbye_runs</th>\n",
       "      <th>noball_runs</th>\n",
       "      <th>penalty_runs</th>\n",
       "      <th>batsman_runs</th>\n",
       "      <th>extra_runs</th>\n",
       "      <th>total_runs</th>\n",
       "      <th>player_dismissed</th>\n",
       "      <th>dismissal_kind</th>\n",
       "      <th>fielder</th>\n",
       "    </tr>\n",
       "  </thead>\n",
       "  <tbody>\n",
       "    <tr>\n",
       "      <th>0</th>\n",
       "      <td>1</td>\n",
       "      <td>1</td>\n",
       "      <td>Sunrisers Hyderabad</td>\n",
       "      <td>Royal Challengers Bangalore</td>\n",
       "      <td>1</td>\n",
       "      <td>1</td>\n",
       "      <td>DA Warner</td>\n",
       "      <td>S Dhawan</td>\n",
       "      <td>TS Mills</td>\n",
       "      <td>0</td>\n",
       "      <td>...</td>\n",
       "      <td>0</td>\n",
       "      <td>0</td>\n",
       "      <td>0</td>\n",
       "      <td>0</td>\n",
       "      <td>0</td>\n",
       "      <td>0</td>\n",
       "      <td>0</td>\n",
       "      <td>NaN</td>\n",
       "      <td>NaN</td>\n",
       "      <td>NaN</td>\n",
       "    </tr>\n",
       "    <tr>\n",
       "      <th>1</th>\n",
       "      <td>1</td>\n",
       "      <td>1</td>\n",
       "      <td>Sunrisers Hyderabad</td>\n",
       "      <td>Royal Challengers Bangalore</td>\n",
       "      <td>1</td>\n",
       "      <td>2</td>\n",
       "      <td>DA Warner</td>\n",
       "      <td>S Dhawan</td>\n",
       "      <td>TS Mills</td>\n",
       "      <td>0</td>\n",
       "      <td>...</td>\n",
       "      <td>0</td>\n",
       "      <td>0</td>\n",
       "      <td>0</td>\n",
       "      <td>0</td>\n",
       "      <td>0</td>\n",
       "      <td>0</td>\n",
       "      <td>0</td>\n",
       "      <td>NaN</td>\n",
       "      <td>NaN</td>\n",
       "      <td>NaN</td>\n",
       "    </tr>\n",
       "    <tr>\n",
       "      <th>2</th>\n",
       "      <td>1</td>\n",
       "      <td>1</td>\n",
       "      <td>Sunrisers Hyderabad</td>\n",
       "      <td>Royal Challengers Bangalore</td>\n",
       "      <td>1</td>\n",
       "      <td>3</td>\n",
       "      <td>DA Warner</td>\n",
       "      <td>S Dhawan</td>\n",
       "      <td>TS Mills</td>\n",
       "      <td>0</td>\n",
       "      <td>...</td>\n",
       "      <td>0</td>\n",
       "      <td>0</td>\n",
       "      <td>0</td>\n",
       "      <td>0</td>\n",
       "      <td>4</td>\n",
       "      <td>0</td>\n",
       "      <td>4</td>\n",
       "      <td>NaN</td>\n",
       "      <td>NaN</td>\n",
       "      <td>NaN</td>\n",
       "    </tr>\n",
       "    <tr>\n",
       "      <th>3</th>\n",
       "      <td>1</td>\n",
       "      <td>1</td>\n",
       "      <td>Sunrisers Hyderabad</td>\n",
       "      <td>Royal Challengers Bangalore</td>\n",
       "      <td>1</td>\n",
       "      <td>4</td>\n",
       "      <td>DA Warner</td>\n",
       "      <td>S Dhawan</td>\n",
       "      <td>TS Mills</td>\n",
       "      <td>0</td>\n",
       "      <td>...</td>\n",
       "      <td>0</td>\n",
       "      <td>0</td>\n",
       "      <td>0</td>\n",
       "      <td>0</td>\n",
       "      <td>0</td>\n",
       "      <td>0</td>\n",
       "      <td>0</td>\n",
       "      <td>NaN</td>\n",
       "      <td>NaN</td>\n",
       "      <td>NaN</td>\n",
       "    </tr>\n",
       "    <tr>\n",
       "      <th>4</th>\n",
       "      <td>1</td>\n",
       "      <td>1</td>\n",
       "      <td>Sunrisers Hyderabad</td>\n",
       "      <td>Royal Challengers Bangalore</td>\n",
       "      <td>1</td>\n",
       "      <td>5</td>\n",
       "      <td>DA Warner</td>\n",
       "      <td>S Dhawan</td>\n",
       "      <td>TS Mills</td>\n",
       "      <td>0</td>\n",
       "      <td>...</td>\n",
       "      <td>0</td>\n",
       "      <td>0</td>\n",
       "      <td>0</td>\n",
       "      <td>0</td>\n",
       "      <td>0</td>\n",
       "      <td>2</td>\n",
       "      <td>2</td>\n",
       "      <td>NaN</td>\n",
       "      <td>NaN</td>\n",
       "      <td>NaN</td>\n",
       "    </tr>\n",
       "    <tr>\n",
       "      <th>...</th>\n",
       "      <td>...</td>\n",
       "      <td>...</td>\n",
       "      <td>...</td>\n",
       "      <td>...</td>\n",
       "      <td>...</td>\n",
       "      <td>...</td>\n",
       "      <td>...</td>\n",
       "      <td>...</td>\n",
       "      <td>...</td>\n",
       "      <td>...</td>\n",
       "      <td>...</td>\n",
       "      <td>...</td>\n",
       "      <td>...</td>\n",
       "      <td>...</td>\n",
       "      <td>...</td>\n",
       "      <td>...</td>\n",
       "      <td>...</td>\n",
       "      <td>...</td>\n",
       "      <td>...</td>\n",
       "      <td>...</td>\n",
       "      <td>...</td>\n",
       "    </tr>\n",
       "    <tr>\n",
       "      <th>150455</th>\n",
       "      <td>636</td>\n",
       "      <td>2</td>\n",
       "      <td>Royal Challengers Bangalore</td>\n",
       "      <td>Sunrisers Hyderabad</td>\n",
       "      <td>20</td>\n",
       "      <td>2</td>\n",
       "      <td>Sachin Baby</td>\n",
       "      <td>CJ Jordan</td>\n",
       "      <td>B Kumar</td>\n",
       "      <td>0</td>\n",
       "      <td>...</td>\n",
       "      <td>0</td>\n",
       "      <td>0</td>\n",
       "      <td>0</td>\n",
       "      <td>0</td>\n",
       "      <td>2</td>\n",
       "      <td>0</td>\n",
       "      <td>2</td>\n",
       "      <td>NaN</td>\n",
       "      <td>NaN</td>\n",
       "      <td>NaN</td>\n",
       "    </tr>\n",
       "    <tr>\n",
       "      <th>150456</th>\n",
       "      <td>636</td>\n",
       "      <td>2</td>\n",
       "      <td>Royal Challengers Bangalore</td>\n",
       "      <td>Sunrisers Hyderabad</td>\n",
       "      <td>20</td>\n",
       "      <td>3</td>\n",
       "      <td>Sachin Baby</td>\n",
       "      <td>CJ Jordan</td>\n",
       "      <td>B Kumar</td>\n",
       "      <td>0</td>\n",
       "      <td>...</td>\n",
       "      <td>0</td>\n",
       "      <td>0</td>\n",
       "      <td>0</td>\n",
       "      <td>0</td>\n",
       "      <td>0</td>\n",
       "      <td>0</td>\n",
       "      <td>0</td>\n",
       "      <td>CJ Jordan</td>\n",
       "      <td>run out</td>\n",
       "      <td>NV Ojha</td>\n",
       "    </tr>\n",
       "    <tr>\n",
       "      <th>150457</th>\n",
       "      <td>636</td>\n",
       "      <td>2</td>\n",
       "      <td>Royal Challengers Bangalore</td>\n",
       "      <td>Sunrisers Hyderabad</td>\n",
       "      <td>20</td>\n",
       "      <td>4</td>\n",
       "      <td>Iqbal Abdulla</td>\n",
       "      <td>Sachin Baby</td>\n",
       "      <td>B Kumar</td>\n",
       "      <td>0</td>\n",
       "      <td>...</td>\n",
       "      <td>0</td>\n",
       "      <td>1</td>\n",
       "      <td>0</td>\n",
       "      <td>0</td>\n",
       "      <td>0</td>\n",
       "      <td>1</td>\n",
       "      <td>1</td>\n",
       "      <td>NaN</td>\n",
       "      <td>NaN</td>\n",
       "      <td>NaN</td>\n",
       "    </tr>\n",
       "    <tr>\n",
       "      <th>150458</th>\n",
       "      <td>636</td>\n",
       "      <td>2</td>\n",
       "      <td>Royal Challengers Bangalore</td>\n",
       "      <td>Sunrisers Hyderabad</td>\n",
       "      <td>20</td>\n",
       "      <td>5</td>\n",
       "      <td>Sachin Baby</td>\n",
       "      <td>Iqbal Abdulla</td>\n",
       "      <td>B Kumar</td>\n",
       "      <td>0</td>\n",
       "      <td>...</td>\n",
       "      <td>0</td>\n",
       "      <td>0</td>\n",
       "      <td>0</td>\n",
       "      <td>0</td>\n",
       "      <td>1</td>\n",
       "      <td>0</td>\n",
       "      <td>1</td>\n",
       "      <td>NaN</td>\n",
       "      <td>NaN</td>\n",
       "      <td>NaN</td>\n",
       "    </tr>\n",
       "    <tr>\n",
       "      <th>150459</th>\n",
       "      <td>636</td>\n",
       "      <td>2</td>\n",
       "      <td>Royal Challengers Bangalore</td>\n",
       "      <td>Sunrisers Hyderabad</td>\n",
       "      <td>20</td>\n",
       "      <td>6</td>\n",
       "      <td>Iqbal Abdulla</td>\n",
       "      <td>Sachin Baby</td>\n",
       "      <td>B Kumar</td>\n",
       "      <td>0</td>\n",
       "      <td>...</td>\n",
       "      <td>0</td>\n",
       "      <td>0</td>\n",
       "      <td>0</td>\n",
       "      <td>0</td>\n",
       "      <td>4</td>\n",
       "      <td>0</td>\n",
       "      <td>4</td>\n",
       "      <td>NaN</td>\n",
       "      <td>NaN</td>\n",
       "      <td>NaN</td>\n",
       "    </tr>\n",
       "  </tbody>\n",
       "</table>\n",
       "<p>150460 rows × 21 columns</p>\n",
       "</div>"
      ],
      "text/plain": [
       "        match_id  inning                 batting_team  \\\n",
       "0              1       1          Sunrisers Hyderabad   \n",
       "1              1       1          Sunrisers Hyderabad   \n",
       "2              1       1          Sunrisers Hyderabad   \n",
       "3              1       1          Sunrisers Hyderabad   \n",
       "4              1       1          Sunrisers Hyderabad   \n",
       "...          ...     ...                          ...   \n",
       "150455       636       2  Royal Challengers Bangalore   \n",
       "150456       636       2  Royal Challengers Bangalore   \n",
       "150457       636       2  Royal Challengers Bangalore   \n",
       "150458       636       2  Royal Challengers Bangalore   \n",
       "150459       636       2  Royal Challengers Bangalore   \n",
       "\n",
       "                       bowling_team  over  ball        batsman    non_striker  \\\n",
       "0       Royal Challengers Bangalore     1     1      DA Warner       S Dhawan   \n",
       "1       Royal Challengers Bangalore     1     2      DA Warner       S Dhawan   \n",
       "2       Royal Challengers Bangalore     1     3      DA Warner       S Dhawan   \n",
       "3       Royal Challengers Bangalore     1     4      DA Warner       S Dhawan   \n",
       "4       Royal Challengers Bangalore     1     5      DA Warner       S Dhawan   \n",
       "...                             ...   ...   ...            ...            ...   \n",
       "150455          Sunrisers Hyderabad    20     2    Sachin Baby      CJ Jordan   \n",
       "150456          Sunrisers Hyderabad    20     3    Sachin Baby      CJ Jordan   \n",
       "150457          Sunrisers Hyderabad    20     4  Iqbal Abdulla    Sachin Baby   \n",
       "150458          Sunrisers Hyderabad    20     5    Sachin Baby  Iqbal Abdulla   \n",
       "150459          Sunrisers Hyderabad    20     6  Iqbal Abdulla    Sachin Baby   \n",
       "\n",
       "          bowler  is_super_over  ...  bye_runs  legbye_runs  noball_runs  \\\n",
       "0       TS Mills              0  ...         0            0            0   \n",
       "1       TS Mills              0  ...         0            0            0   \n",
       "2       TS Mills              0  ...         0            0            0   \n",
       "3       TS Mills              0  ...         0            0            0   \n",
       "4       TS Mills              0  ...         0            0            0   \n",
       "...          ...            ...  ...       ...          ...          ...   \n",
       "150455   B Kumar              0  ...         0            0            0   \n",
       "150456   B Kumar              0  ...         0            0            0   \n",
       "150457   B Kumar              0  ...         0            1            0   \n",
       "150458   B Kumar              0  ...         0            0            0   \n",
       "150459   B Kumar              0  ...         0            0            0   \n",
       "\n",
       "        penalty_runs  batsman_runs  extra_runs  total_runs  player_dismissed  \\\n",
       "0                  0             0           0           0               NaN   \n",
       "1                  0             0           0           0               NaN   \n",
       "2                  0             4           0           4               NaN   \n",
       "3                  0             0           0           0               NaN   \n",
       "4                  0             0           2           2               NaN   \n",
       "...              ...           ...         ...         ...               ...   \n",
       "150455             0             2           0           2               NaN   \n",
       "150456             0             0           0           0         CJ Jordan   \n",
       "150457             0             0           1           1               NaN   \n",
       "150458             0             1           0           1               NaN   \n",
       "150459             0             4           0           4               NaN   \n",
       "\n",
       "       dismissal_kind  fielder  \n",
       "0                 NaN      NaN  \n",
       "1                 NaN      NaN  \n",
       "2                 NaN      NaN  \n",
       "3                 NaN      NaN  \n",
       "4                 NaN      NaN  \n",
       "...               ...      ...  \n",
       "150455            NaN      NaN  \n",
       "150456        run out  NV Ojha  \n",
       "150457            NaN      NaN  \n",
       "150458            NaN      NaN  \n",
       "150459            NaN      NaN  \n",
       "\n",
       "[150460 rows x 21 columns]"
      ]
     },
     "execution_count": 3,
     "metadata": {},
     "output_type": "execute_result"
    }
   ],
   "source": [
    "df"
   ]
  },
  {
   "cell_type": "code",
   "execution_count": 4,
   "id": "75118435-9dc3-4a79-be6b-7dcba8602e32",
   "metadata": {
    "scrolled": true
   },
   "outputs": [
    {
     "data": {
      "text/plain": [
       "<Axes: >"
      ]
     },
     "execution_count": 4,
     "metadata": {},
     "output_type": "execute_result"
    },
    {
     "data": {
      "image/png": "[encoded data removed]",
      "text/plain": [
       "<Figure size 640x480 with 1 Axes>"
      ]
     },
     "metadata": {},
     "output_type": "display_data"
    }
   ],
   "source": [
    "df.isnull().sum().plot(kind='bar')"
   ]
  },
  {
   "cell_type": "code",
   "execution_count": 5,
   "id": "0eeca663-8bb0-47d8-9d5d-fd095f040d14",
   "metadata": {},
   "outputs": [
    {
     "data": {
      "text/plain": [
       "batting_team\n",
       "Mumbai Indians                 24521\n",
       "Royal Challengers Bangalore    23436\n",
       "Kings XI Punjab                23068\n",
       "Kolkata Knight Riders          21965\n",
       "Delhi Daredevils               21953\n",
       "Chennai Super Kings            20899\n",
       "Rajasthan Royals               17703\n",
       "Sunrisers Hyderabad            11652\n",
       "Deccan Chargers                11463\n",
       "Pune Warriors                   6358\n",
       "Gujarat Lions                   4862\n",
       "Rising Pune Supergiant          2470\n",
       "Rising Pune Supergiants         2063\n",
       "Kochi Tuskers Kerala            1901\n",
       "Name: total_runs, dtype: int64"
      ]
     },
     "execution_count": 5,
     "metadata": {},
     "output_type": "execute_result"
    }
   ],
   "source": [
    "# what is total number of runs scored by each batting team.\n",
    "\n",
    "df.groupby(by='batting_team')['total_runs'].sum().sort_values(ascending=False)"
   ]
  },
  {
   "cell_type": "code",
   "execution_count": 6,
   "id": "e02751d8-3689-45c0-ad3d-7d9d6bd87495",
   "metadata": {},
   "outputs": [
    {
     "data": {
      "text/plain": [
       "bowling_team\n",
       "Mumbai Indians                 786\n",
       "Royal Challengers Bangalore    725\n",
       "Kings XI Punjab                668\n",
       "Kolkata Knight Riders          658\n",
       "Delhi Daredevils               614\n",
       "Rajasthan Royals               586\n",
       "Chennai Super Kings            526\n",
       "Deccan Chargers                328\n",
       "Sunrisers Hyderabad            268\n",
       "Pune Warriors                  174\n",
       "Gujarat Lions                  107\n",
       "Rising Pune Supergiants         77\n",
       "Rising Pune Supergiant          69\n",
       "Kochi Tuskers Kerala            56\n",
       "Name: wide_runs, dtype: int64"
      ]
     },
     "execution_count": 6,
     "metadata": {},
     "output_type": "execute_result"
    }
   ],
   "source": [
    "# how many wides have been bowled by each bowling team\n",
    "df.groupby(by='bowling_team')['wide_runs'].sum().sort_values(ascending=False)"
   ]
  },
  {
   "cell_type": "code",
   "execution_count": 7,
   "id": "24860b2d-3594-4a0e-9d9d-5637b860c48d",
   "metadata": {
    "scrolled": true
   },
   "outputs": [
    {
     "data": {
      "text/plain": [
       "batting_team\n",
       "Pune Warriors                  1.168106\n",
       "Kochi Tuskers Kerala           1.201643\n",
       "Deccan Chargers                1.268873\n",
       "Rajasthan Royals               1.272316\n",
       "Kolkata Knight Riders          1.274885\n",
       "Delhi Daredevils               1.277451\n",
       "Sunrisers Hyderabad            1.286377\n",
       "Mumbai Indians                 1.294462\n",
       "Rising Pune Supergiant         1.300000\n",
       "Rising Pune Supergiants        1.305696\n",
       "Kings XI Punjab                1.311129\n",
       "Royal Challengers Bangalore    1.325716\n",
       "Chennai Super Kings            1.326584\n",
       "Gujarat Lions                  1.363432\n",
       "Name: total_runs, dtype: float64"
      ]
     },
     "execution_count": 7,
     "metadata": {},
     "output_type": "execute_result"
    }
   ],
   "source": [
    "# what is average number of runs scored by each team.\n",
    "df.groupby(by='batting_team')['total_runs'].mean().sort_values(ascending=True)"
   ]
  },
  {
   "cell_type": "code",
   "execution_count": 8,
   "id": "0d85d6f9-697d-47cc-9681-5e8176b24871",
   "metadata": {},
   "outputs": [
    {
     "data": {
      "text/plain": [
       "batsman\n",
       "SK Raina    4548\n",
       "Name: batsman_runs, dtype: int64"
      ]
     },
     "execution_count": 8,
     "metadata": {},
     "output_type": "execute_result"
    }
   ],
   "source": [
    "# which batsmen scored highest number of runs.\n",
    "df.groupby(by='batsman')['batsman_runs'].sum().sort_values(ascending=False).head(1)"
   ]
  },
  {
   "cell_type": "code",
   "execution_count": 9,
   "id": "1bc22af7-0b1b-436a-8a2d-2dfc5341f0df",
   "metadata": {},
   "outputs": [
    {
     "data": {
      "text/plain": [
       "dismissal_kind\n",
       "caught                   6482\n",
       "bowled                   2067\n",
       "run out                  1078\n",
       "lbw                       682\n",
       "stumped                   373\n",
       "caught and bowled         317\n",
       "retired hurt               13\n",
       "hit wicket                 12\n",
       "obstructing the field       2\n",
       "Name: inning, dtype: int64"
      ]
     },
     "execution_count": 9,
     "metadata": {},
     "output_type": "execute_result"
    }
   ],
   "source": [
    "# how many dismissals have occured of each dismissal kind\n",
    "\n",
    "df.groupby(by='dismissal_kind')['inning'].sum().sort_values(ascending=False)"
   ]
  },
  {
   "cell_type": "code",
   "execution_count": 10,
   "id": "6705ab82-57ec-40e0-8ea3-111ec3ac7efd",
   "metadata": {},
   "outputs": [
    {
     "data": {
      "text/plain": [
       "0             nan\n",
       "1             nan\n",
       "2             nan\n",
       "3             nan\n",
       "4             nan\n",
       "           ...   \n",
       "150455        nan\n",
       "150456    run out\n",
       "150457        nan\n",
       "150458        nan\n",
       "150459        nan\n",
       "Name: dismissal_kind, Length: 150460, dtype: object"
      ]
     },
     "execution_count": 10,
     "metadata": {},
     "output_type": "execute_result"
    }
   ],
   "source": [
    "df['dismissal_kind'].astype(str)"
   ]
  },
  {
   "cell_type": "code",
   "execution_count": 11,
   "id": "eb066c60-4677-4f02-8403-405b1c0739c6",
   "metadata": {},
   "outputs": [
    {
     "data": {
      "text/plain": [
       "match_id                                                         2873\n",
       "inning                                                             12\n",
       "batting_team        Kolkata Knight RidersMumbai IndiansRoyal Chall...\n",
       "bowling_team        Rising Pune SupergiantKings XI PunjabKings XI ...\n",
       "over                                                              109\n",
       "ball                                                               33\n",
       "batsman             SP JacksonMA KhoteMisbah-ul-HaqSA AsnodkarRA J...\n",
       "non_striker         G GambhirDS KulkarniV KohliRJ QuineyDJ BravoTM...\n",
       "bowler              Washington SundarS SreesanthS SreesanthJA Mork...\n",
       "is_super_over                                                       0\n",
       "wide_runs                                                           0\n",
       "bye_runs                                                            0\n",
       "legbye_runs                                                         0\n",
       "noball_runs                                                         0\n",
       "penalty_runs                                                        0\n",
       "batsman_runs                                                        0\n",
       "extra_runs                                                          0\n",
       "total_runs                                                          0\n",
       "player_dismissed    SP JacksonMA KhoteMisbah-ul-HaqSA AsnodkarRA J...\n",
       "dismissal_kind      hit wickethit wickethit wickethit wickethit wi...\n",
       "fielder                                                             0\n",
       "dtype: object"
      ]
     },
     "execution_count": 11,
     "metadata": {},
     "output_type": "execute_result"
    }
   ],
   "source": [
    "df[df['dismissal_kind']=='hit wicket'].sum()"
   ]
  },
  {
   "cell_type": "code",
   "execution_count": 12,
   "id": "8254b785-e54b-4868-b33c-a19c28d253b4",
   "metadata": {
    "scrolled": true
   },
   "outputs": [
    {
     "data": {
      "text/plain": [
       "over\n",
       "18    10899\n",
       "17    10817\n",
       "19    10469\n",
       "6     10397\n",
       "16    10397\n",
       "15    10240\n",
       "5     10227\n",
       "4     10207\n",
       "14     9900\n",
       "3      9852\n",
       "13     9713\n",
       "12     9694\n",
       "20     9647\n",
       "11     9456\n",
       "9      9247\n",
       "10     9047\n",
       "2      8993\n",
       "8      8966\n",
       "7      8413\n",
       "1      7733\n",
       "Name: total_runs, dtype: int64"
      ]
     },
     "execution_count": 12,
     "metadata": {},
     "output_type": "execute_result"
    }
   ],
   "source": [
    "# what is total runs scored in each over \n",
    "df.groupby(by='over')['total_runs'].sum().sort_values(ascending=False)"
   ]
  },
  {
   "cell_type": "code",
   "execution_count": 13,
   "id": "47c52a36-a8b3-4bb6-ac6e-bb3346768c62",
   "metadata": {},
   "outputs": [
    {
     "data": {
      "text/plain": [
       "fielder\n",
       "KD Karthik    127\n",
       "Name: count, dtype: int64"
      ]
     },
     "execution_count": 13,
     "metadata": {},
     "output_type": "execute_result"
    }
   ],
   "source": [
    "# which fielder have been involved in the most dismissals\n",
    "\n",
    "df['fielder'].value_counts().head(1)"
   ]
  },
  {
   "cell_type": "code",
   "execution_count": 14,
   "id": "06a7a7b9-ae2d-46f0-9d86-a058c9c4144e",
   "metadata": {},
   "outputs": [],
   "source": [
    "# how does the number of runs scored vary with the over number\n",
    "\n",
    "import seaborn as sns\n",
    "import matplotlib.pyplot as plt"
   ]
  },
  {
   "cell_type": "code",
   "execution_count": 15,
   "id": "f6d41940-4589-49df-a67f-6431cdecfa6c",
   "metadata": {
    "scrolled": true
   },
   "outputs": [
    {
     "name": "stderr",
     "output_type": "stream",
     "text": [
      "C:\\Users\\91976\\anaconda3\\Lib\\site-packages\\seaborn\\_oldcore.py:1119: FutureWarning: use_inf_as_na option is deprecated and will be removed in a future version. Convert inf values to NaN before operating instead.\n",
      "  with pd.option_context('mode.use_inf_as_na', True):\n",
      "C:\\Users\\91976\\anaconda3\\Lib\\site-packages\\seaborn\\_oldcore.py:1119: FutureWarning: use_inf_as_na option is deprecated and will be removed in a future version. Convert inf values to NaN before operating instead.\n",
      "  with pd.option_context('mode.use_inf_as_na', True):\n"
     ]
    },
    {
     "data": {
      "text/plain": [
       "Text(0.5, 1.0, 'ipl')"
      ]
     },
     "execution_count": 15,
     "metadata": {},
     "output_type": "execute_result"
    },
    {
     "data": {
      "image/png": "[encoded data removed]",
      "text/plain": [
       "<Figure size 640x480 with 1 Axes>"
      ]
     },
     "metadata": {},
     "output_type": "display_data"
    },
    {
     "data": {
      "image/png": "[encoded data removed]",
      "text/plain": [
       "<Figure size 1000x1000 with 1 Axes>"
      ]
     },
     "metadata": {},
     "output_type": "display_data"
    }
   ],
   "source": [
    "sns.lineplot(data=df,x='over',y='total_runs')\n",
    "plt.figure(figsize=(10,10))\n",
    "plt.title('ipl')"
   ]
  },
  {
   "cell_type": "code",
   "execution_count": 16,
   "id": "a9fe67a6-4851-4ebd-98f9-2d1b59c4f7a2",
   "metadata": {
    "scrolled": true
   },
   "outputs": [
    {
     "data": {
      "text/plain": [
       "Text(0.5, 1.0, 'ipl')"
      ]
     },
     "execution_count": 16,
     "metadata": {},
     "output_type": "execute_result"
    },
    {
     "data": {
      "image/png": "[encoded data removed]",
      "text/plain": [
       "<Figure size 640x480 with 1 Axes>"
      ]
     },
     "metadata": {},
     "output_type": "display_data"
    }
   ],
   "source": [
    "sns.scatterplot(data=df,x='over',y='total_runs')\n",
    "plt.title('ipl')"
   ]
  },
  {
   "cell_type": "code",
   "execution_count": 17,
   "id": "33a385a2-79d6-417d-a161-724856e1d738",
   "metadata": {},
   "outputs": [
    {
     "data": {
      "text/html": [
       "<div>\n",
       "<style scoped>\n",
       "    .dataframe tbody tr th:only-of-type {\n",
       "        vertical-align: middle;\n",
       "    }\n",
       "\n",
       "    .dataframe tbody tr th {\n",
       "        vertical-align: top;\n",
       "    }\n",
       "\n",
       "    .dataframe thead th {\n",
       "        text-align: right;\n",
       "    }\n",
       "</style>\n",
       "<table border=\"1\" class=\"dataframe\">\n",
       "  <thead>\n",
       "    <tr style=\"text-align: right;\">\n",
       "      <th></th>\n",
       "      <th>total_runs</th>\n",
       "      <th>extra_runs</th>\n",
       "    </tr>\n",
       "  </thead>\n",
       "  <tbody>\n",
       "    <tr>\n",
       "      <th>total_runs</th>\n",
       "      <td>1.000000</td>\n",
       "      <td>0.078085</td>\n",
       "    </tr>\n",
       "    <tr>\n",
       "      <th>extra_runs</th>\n",
       "      <td>0.078085</td>\n",
       "      <td>1.000000</td>\n",
       "    </tr>\n",
       "  </tbody>\n",
       "</table>\n",
       "</div>"
      ],
      "text/plain": [
       "            total_runs  extra_runs\n",
       "total_runs    1.000000    0.078085\n",
       "extra_runs    0.078085    1.000000"
      ]
     },
     "execution_count": 17,
     "metadata": {},
     "output_type": "execute_result"
    }
   ],
   "source": [
    "# how is relation between number of runs scored & number of extras concided\n",
    "\n",
    "df[['total_runs','extra_runs']].corr()"
   ]
  },
  {
   "cell_type": "code",
   "execution_count": 18,
   "id": "58902d5c-96a2-4e01-8fe3-aafc7d009704",
   "metadata": {
    "scrolled": true
   },
   "outputs": [
    {
     "name": "stderr",
     "output_type": "stream",
     "text": [
      "C:\\Users\\91976\\anaconda3\\Lib\\site-packages\\seaborn\\_oldcore.py:1119: FutureWarning: use_inf_as_na option is deprecated and will be removed in a future version. Convert inf values to NaN before operating instead.\n",
      "  with pd.option_context('mode.use_inf_as_na', True):\n",
      "C:\\Users\\91976\\anaconda3\\Lib\\site-packages\\seaborn\\_oldcore.py:1119: FutureWarning: use_inf_as_na option is deprecated and will be removed in a future version. Convert inf values to NaN before operating instead.\n",
      "  with pd.option_context('mode.use_inf_as_na', True):\n"
     ]
    },
    {
     "ename": "AttributeError",
     "evalue": "'Axes' object has no attribute 'iloc'",
     "output_type": "error",
     "traceback": [
      "\u001b[1;31m---------------------------------------------------------------------------\u001b[0m",
      "\u001b[1;31mAttributeError\u001b[0m                            Traceback (most recent call last)",
      "Cell \u001b[1;32mIn[18], line 3\u001b[0m\n\u001b[0;32m      1\u001b[0m \u001b[38;5;66;03m# are there any noteable trend in distribution of run scored by batting teams accross innings\u001b[39;00m\n\u001b[1;32m----> 3\u001b[0m sns\u001b[38;5;241m.\u001b[39mlineplot(data\u001b[38;5;241m=\u001b[39mdf,x\u001b[38;5;241m=\u001b[39m\u001b[38;5;124m'\u001b[39m\u001b[38;5;124mbatting_team\u001b[39m\u001b[38;5;124m'\u001b[39m,y\u001b[38;5;241m=\u001b[39m\u001b[38;5;124m'\u001b[39m\u001b[38;5;124mtotal_runs\u001b[39m\u001b[38;5;124m'\u001b[39m)\u001b[38;5;241m.\u001b[39miloc[:\u001b[38;5;241m10\u001b[39m]\n\u001b[0;32m      4\u001b[0m plt\u001b[38;5;241m.\u001b[39mtitle(\u001b[38;5;124m'\u001b[39m\u001b[38;5;124mdist_runs\u001b[39m\u001b[38;5;124m'\u001b[39m)\n",
      "\u001b[1;31mAttributeError\u001b[0m: 'Axes' object has no attribute 'iloc'"
     ]
    },
    {
     "data": {
      "image/png": "[encoded data removed]",
      "text/plain": [
       "<Figure size 640x480 with 1 Axes>"
      ]
     },
     "metadata": {},
     "output_type": "display_data"
    }
   ],
   "source": [
    "# are there any noteable trend in distribution of run scored by batting teams accross innings\n",
    "\n",
    "sns.lineplot(data=df,x='batting_team',y='total_runs').iloc[:10]\n",
    "plt.title('dist_runs')"
   ]
  },
  {
   "cell_type": "code",
   "execution_count": 19,
   "id": "ee02c37a-5d4e-4c23-9a9b-abd337b4ef95",
   "metadata": {
    "scrolled": true
   },
   "outputs": [
    {
     "data": {
      "text/plain": [
       "batting_team\n",
       "Gujarat Lions                  1.363432\n",
       "Chennai Super Kings            1.326584\n",
       "Royal Challengers Bangalore    1.325716\n",
       "Kings XI Punjab                1.311129\n",
       "Rising Pune Supergiants        1.305696\n",
       "Rising Pune Supergiant         1.300000\n",
       "Mumbai Indians                 1.294462\n",
       "Sunrisers Hyderabad            1.286377\n",
       "Delhi Daredevils               1.277451\n",
       "Kolkata Knight Riders          1.274885\n",
       "Rajasthan Royals               1.272316\n",
       "Deccan Chargers                1.268873\n",
       "Kochi Tuskers Kerala           1.201643\n",
       "Pune Warriors                  1.168106\n",
       "Name: total_runs, dtype: float64"
      ]
     },
     "execution_count": 19,
     "metadata": {},
     "output_type": "execute_result"
    }
   ],
   "source": [
    "# which batting team has the highest average runs per match\n",
    "\n",
    "df.groupby(by='batting_team')['total_runs'].mean().sort_values(ascending=False)"
   ]
  },
  {
   "cell_type": "code",
   "execution_count": 20,
   "id": "fa759bd0-3079-4bbd-9138-63c90869d5ca",
   "metadata": {},
   "outputs": [
    {
     "data": {
      "text/plain": [
       "batsman\n",
       "SK Raina          4745\n",
       "V Kohli           4588\n",
       "G Gambhir         4388\n",
       "RG Sharma         4334\n",
       "DA Warner         4213\n",
       "                  ... \n",
       "IC Pandey            0\n",
       "U Kaul               0\n",
       "V Pratap Singh       0\n",
       "Sunny Gupta          0\n",
       "RR Bhatkal           0\n",
       "Name: total_runs, Length: 461, dtype: int64"
      ]
     },
     "execution_count": 20,
     "metadata": {},
     "output_type": "execute_result"
    }
   ],
   "source": [
    "# what is total runs scored in each batsman \n",
    "df.groupby(by='batsman')['total_runs'].sum().sort_values(ascending=False)"
   ]
  },
  {
   "cell_type": "code",
   "execution_count": 21,
   "id": "83b9b637-3a15-41e8-bc62-57934f3e0218",
   "metadata": {
    "scrolled": true
   },
   "outputs": [
    {
     "data": {
      "text/plain": [
       "bowler\n",
       "SL Malinga         170\n",
       "A Mishra           142\n",
       "DJ Bravo           137\n",
       "Harbhajan Singh    136\n",
       "PP Chawla          133\n",
       "                  ... \n",
       "KAJ Roach            0\n",
       "K Upadhyay           0\n",
       "SPD Smith            0\n",
       "SR Tendulkar         0\n",
       "S Sriram             0\n",
       "Name: player_dismissed, Length: 356, dtype: int64"
      ]
     },
     "execution_count": 21,
     "metadata": {},
     "output_type": "execute_result"
    }
   ],
   "source": [
    "# which bowler has taken most wickets\n",
    "\n",
    "df.groupby(by='bowler')['player_dismissed'].count().sort_values(ascending=False)"
   ]
  },
  {
   "cell_type": "code",
   "execution_count": 22,
   "id": "13c5a8d4-dfc5-4b7f-ae86-99423cb552a4",
   "metadata": {},
   "outputs": [
    {
     "data": {
      "text/plain": [
       "Index(['match_id', 'inning', 'batting_team', 'bowling_team', 'over', 'ball',\n",
       "       'batsman', 'non_striker', 'bowler', 'is_super_over', 'wide_runs',\n",
       "       'bye_runs', 'legbye_runs', 'noball_runs', 'penalty_runs',\n",
       "       'batsman_runs', 'extra_runs', 'total_runs', 'player_dismissed',\n",
       "       'dismissal_kind', 'fielder'],\n",
       "      dtype='object')"
      ]
     },
     "execution_count": 22,
     "metadata": {},
     "output_type": "execute_result"
    }
   ],
   "source": [
    "# how many super overs have been played in total\n",
    "df.columns"
   ]
  },
  {
   "cell_type": "code",
   "execution_count": 23,
   "id": "f1511820-62d6-4fae-b430-035f41c5b53d",
   "metadata": {},
   "outputs": [
    {
     "data": {
      "text/plain": [
       "81"
      ]
     },
     "execution_count": 23,
     "metadata": {},
     "output_type": "execute_result"
    }
   ],
   "source": [
    "df['is_super_over'].sum()"
   ]
  },
  {
   "cell_type": "code",
   "execution_count": 24,
   "id": "8bed7348-d2ea-4427-b760-bfe9c04b1a73",
   "metadata": {
    "scrolled": true
   },
   "outputs": [
    {
     "data": {
      "text/plain": [
       "bowling_team\n",
       "Rising Pune Supergiants        0.050155\n",
       "Mumbai Indians                 0.046983\n",
       "Rajasthan Royals               0.046134\n",
       "Royal Challengers Bangalore    0.044810\n",
       "Kings XI Punjab                0.043411\n",
       "Deccan Chargers                0.042261\n",
       "Kolkata Knight Riders          0.041583\n",
       "Delhi Daredevils               0.041055\n",
       "Kochi Tuskers Kerala           0.039653\n",
       "Chennai Super Kings            0.037399\n",
       "Pune Warriors                  0.036650\n",
       "Rising Pune Supergiant         0.036307\n",
       "Sunrisers Hyderabad            0.032628\n",
       "Gujarat Lions                  0.032158\n",
       "Name: total_extras, dtype: float64"
      ]
     },
     "execution_count": 24,
     "metadata": {},
     "output_type": "execute_result"
    }
   ],
   "source": [
    "# what is average number of extras concieded per inning by each bowling team.\n",
    "\n",
    "df['total_extras']=df['noball_runs']+df['penalty_runs']+df['wide_runs']\n",
    "extras_perinning=df.groupby(by='bowling_team')['total_extras'].mean().sort_values(ascending=False)\n",
    "extras_perinning"
   ]
  },
  {
   "cell_type": "code",
   "execution_count": 25,
   "id": "a2ccfcf2-6c42-4f94-b846-1e0f8bcc7172",
   "metadata": {
    "scrolled": true
   },
   "outputs": [
    {
     "data": {
      "text/plain": [
       "batsman    bowler         \n",
       "V Kohli    A Mishra           156\n",
       "SK Raina   PP Chawla          153\n",
       "V Kohli    UT Yadav           144\n",
       "DA Warner  P Kumar            141\n",
       "SK Raina   Harbhajan Singh    138\n",
       "                             ... \n",
       "R Dravid   SR Watson            1\n",
       "HH Pandya  Iqbal Abdulla        1\n",
       "           KW Richardson        1\n",
       "AT Rayudu  MF Maharoof          1\n",
       "Z Khan     YK Pathan            1\n",
       "Name: total_runs, Length: 16071, dtype: int64"
      ]
     },
     "execution_count": 25,
     "metadata": {},
     "output_type": "execute_result"
    }
   ],
   "source": [
    "# how many runs have been scored by each batsman bowler pair.\n",
    "\n",
    "df[df['total_runs']>0].groupby(by=['batsman','bowler'])['total_runs'].sum().sort_values(ascending=False)"
   ]
  },
  {
   "cell_type": "code",
   "execution_count": 26,
   "id": "fa986b59-7d78-4331-9af4-cc975324d154",
   "metadata": {},
   "outputs": [
    {
     "data": {
      "text/plain": [
       "dismissal_kind\n",
       "caught    4373\n",
       "Name: count, dtype: int64"
      ]
     },
     "execution_count": 26,
     "metadata": {},
     "output_type": "execute_result"
    }
   ],
   "source": [
    "# what is most common dismissal kind\n",
    "\n",
    "df['dismissal_kind'].value_counts().head(1)"
   ]
  },
  {
   "cell_type": "code",
   "execution_count": 27,
   "id": "aad261c2-bb7b-45a0-851e-a41294c79145",
   "metadata": {},
   "outputs": [
    {
     "data": {
      "text/plain": [
       "batting_team\n",
       "Mumbai Indians                 27678\n",
       "Royal Challengers Bangalore    26818\n",
       "Delhi Daredevils               26728\n",
       "Kolkata Knight Riders          26234\n",
       "Kings XI Punjab                25781\n",
       "Chennai Super Kings            22035\n",
       "Rajasthan Royals               21213\n",
       "Deccan Chargers                12788\n",
       "Sunrisers Hyderabad            12470\n",
       "Pune Warriors                   8438\n",
       "Gujarat Lions                   5422\n",
       "Rising Pune Supergiant          2806\n",
       "Rising Pune Supergiants         2311\n",
       "Kochi Tuskers Kerala            2288\n",
       "Name: inning, dtype: int64"
      ]
     },
     "execution_count": 27,
     "metadata": {},
     "output_type": "execute_result"
    }
   ],
   "source": [
    "# how many matches have been played by each batting team.\n",
    "\n",
    "df.groupby(['batting_team'])['inning'].sum().sort_values(ascending=False)"
   ]
  },
  {
   "cell_type": "code",
   "execution_count": 28,
   "id": "f3d90875-7725-442d-9bc3-f8e6bd3cedc3",
   "metadata": {
    "scrolled": true
   },
   "outputs": [
    {
     "data": {
      "text/plain": [
       "over\n",
       "20    1.707736\n",
       "19    1.600031\n",
       "18    1.561685\n",
       "17    1.495300\n",
       "16    1.418031\n",
       "15    1.373206\n",
       "6     1.321933\n",
       "14    1.313694\n",
       "5     1.298832\n",
       "4     1.291698\n",
       "13    1.275509\n",
       "12    1.269347\n",
       "3     1.242057\n",
       "11    1.233177\n",
       "9     1.189325\n",
       "10    1.170981\n",
       "8     1.149635\n",
       "2     1.121601\n",
       "7     1.074869\n",
       "1     0.955635\n",
       "Name: total_runs, dtype: float64"
      ]
     },
     "execution_count": 28,
     "metadata": {},
     "output_type": "execute_result"
    }
   ],
   "source": [
    "# what is average number of runs scored in each over.\n",
    "\n",
    "df.groupby(by=['over'])['total_runs'].mean().sort_values(ascending=False)"
   ]
  },
  {
   "cell_type": "code",
   "execution_count": 32,
   "id": "5db39e95-58c5-4336-b411-351ae3149b57",
   "metadata": {},
   "outputs": [
    {
     "data": {
      "text/plain": [
       "batting_team\n",
       "Chennai Super Kings            0\n",
       "Deccan Chargers                0\n",
       "Delhi Daredevils               0\n",
       "Gujarat Lions                  0\n",
       "Kings XI Punjab                0\n",
       "Kochi Tuskers Kerala           0\n",
       "Kolkata Knight Riders          0\n",
       "Mumbai Indians                 0\n",
       "Pune Warriors                  0\n",
       "Rajasthan Royals               0\n",
       "Rising Pune Supergiant         0\n",
       "Rising Pune Supergiants        0\n",
       "Royal Challengers Bangalore    0\n",
       "Sunrisers Hyderabad            0\n",
       "Name: centuries, dtype: int64"
      ]
     },
     "execution_count": 32,
     "metadata": {},
     "output_type": "execute_result"
    }
   ],
   "source": [
    "# which batting team has highest number of centuries.\n",
    "\n",
    "df['centuries']=df['batsman_runs']>99\n",
    "df.groupby(by=['batting_team'])['centuries'].sum()"
   ]
  },
  {
   "cell_type": "code",
   "execution_count": 41,
   "id": "15ddb789-74a7-4216-8a29-2b7f86bf288b",
   "metadata": {
    "scrolled": true
   },
   "outputs": [
    {
     "data": {
      "text/plain": [
       "<Axes: xlabel='wide_runs', ylabel='noball_runs'>"
      ]
     },
     "execution_count": 41,
     "metadata": {},
     "output_type": "execute_result"
    },
    {
     "data": {
      "image/png": "[encoded data removed]",
      "text/plain": [
       "<Figure size 640x480 with 1 Axes>"
      ]
     },
     "metadata": {},
     "output_type": "display_data"
    }
   ],
   "source": [
    "# how is the relation between number of wides and number of no balls\n",
    "\n",
    "df[['noball_runs','wide_runs']].corr()\n",
    "sns.scatterplot(data=df,x='wide_runs',y='noball_runs')"
   ]
  },
  {
   "cell_type": "code",
   "execution_count": 51,
   "id": "ffbfe78b-ae3f-49e9-a3af-6cc136c2b409",
   "metadata": {},
   "outputs": [
    {
     "data": {
      "text/plain": [
       "2.1358024691358026"
      ]
     },
     "execution_count": 51,
     "metadata": {},
     "output_type": "execute_result"
    }
   ],
   "source": [
    "# what is the average number of runs scored per inning in matches with super over\n",
    "\n",
    "df[df['is_super_over']==1]['total_runs'].mean()"
   ]
  },
  {
   "cell_type": "code",
   "execution_count": 64,
   "id": "6c0ce1bd-5de8-4efc-b674-9d0f6ad48fdb",
   "metadata": {},
   "outputs": [
    {
     "data": {
      "text/plain": [
       "<Axes: xlabel='batting_team', ylabel='total_runs'>"
      ]
     },
     "execution_count": 64,
     "metadata": {},
     "output_type": "execute_result"
    },
    {
     "data": {
      "image/png": "[encoded data removed]",
      "text/plain": [
       "<Figure size 1000x1000 with 1 Axes>"
      ]
     },
     "metadata": {},
     "output_type": "display_data"
    }
   ],
   "source": [
    "# what is the distribution of runs scored by each batting team in super overs\n",
    "\n",
    "super_over_df=df[df['is_super_over']==1]\n",
    "runs_by_team=super_over_df.groupby('batting_team')['total_runs'].sum().reset_index()\n",
    "plt.figure(figsize=(10,10))\n",
    "sns.barplot(data=runs_by_team,x='batting_team',y='total_runs')"
   ]
  },
  {
   "cell_type": "code",
   "execution_count": null,
   "id": "2cf8de37-5c6b-4383-8a0e-bc7ebae2e13e",
   "metadata": {},
   "outputs": [],
   "source": []
  }
 ],
 "metadata": {
  "kernelspec": {
   "display_name": "Python 3 (ipykernel)",
   "language": "python",
   "name": "python3"
  },
  "language_info": {
   "codemirror_mode": {
    "name": "ipython",
    "version": 3
   },
   "file_extension": ".py",
   "mimetype": "text/x-python",
   "name": "python",
   "nbconvert_exporter": "python",
   "pygments_lexer": "ipython3",
   "version": "3.11.7"
  }
 },
 "nbformat": 4,
 "nbformat_minor": 5
}
